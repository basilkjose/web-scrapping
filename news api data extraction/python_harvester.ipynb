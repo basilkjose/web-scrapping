{
  "nbformat": 4,
  "nbformat_minor": 0,
  "metadata": {
    "colab": {
      "name": "python harvester.ipynb",
      "provenance": [],
      "collapsed_sections": []
    },
    "kernelspec": {
      "name": "python3",
      "display_name": "Python 3"
    },
    "language_info": {
      "name": "python"
    }
  },
  "cells": [
    {
      "cell_type": "code",
      "metadata": {
        "id": "hf7aIApNTTL4"
      },
      "source": [
        "import requests     \n",
        "import pandas as pd\n",
        "from bs4 import BeautifulSoup\n",
        "import re"
      ],
      "execution_count": 50,
      "outputs": []
    },
    {
      "cell_type": "code",
      "metadata": {
        "id": "SdqvRXW1T3-v"
      },
      "source": [
        "# python harvester\n",
        "class harvester:\n",
        "   def __init__(self, q, pageSize,apikey,url ):\n",
        "     self.q=q\n",
        "     self.pageSize=pageSize\n",
        "     self.apiKey=apikey\n",
        "     self.url=url\n",
        "class news_search(harvester):\n",
        "  q='climate and hazard'\n",
        "  pageSize= 100    \n",
        "  url = 'https://newsapi.org/v2/everything?'\n",
        "  apiKey='0b2639f37f3d4fc087635181905e3126'\n",
        "  def __init__(self):\n",
        "     super().__init__(news_search.q,news_search.pageSize,news_search.apiKey,news_search.url)\n",
        "  def search(self):\n",
        "    response = requests.get(news_search.url, params={'q':news_search.q,'pageSize':news_search.pageSize,'apiKey':news_search.apiKey})\n",
        "    return response.json()"
      ],
      "execution_count": 51,
      "outputs": []
    },
    {
      "cell_type": "code",
      "metadata": {
        "id": "3n-4IU_7eV7s"
      },
      "source": [
        "har=news_search()"
      ],
      "execution_count": 52,
      "outputs": []
    },
    {
      "cell_type": "code",
      "metadata": {
        "id": "3ztf6PhDe2zs"
      },
      "source": [
        "scrape=har.search()"
      ],
      "execution_count": 53,
      "outputs": []
    },
    {
      "cell_type": "code",
      "metadata": {
        "id": "_pECL3Zife48"
      },
      "source": [
        "  def csv_creator(data):\n",
        "    author=[]\n",
        "    published_at=[]\n",
        "    title=[]\n",
        "    description=[]\n",
        "    url=[]   \n",
        "    for i in data['articles']:\n",
        "      author.append( i['author'])\n",
        "      published_at.append(i['publishedAt'])\n",
        "      title.append(i['title'])\n",
        "      description.append(i['description'])\n",
        "      url.append(i['url'])\n",
        "    data=pd.DataFrame(columns=['author','published_at','title','description','url'])\n",
        "    data['author']= author\n",
        "    data['published_at']=published_at\n",
        "    data['title']=title\n",
        "    data['description']=description\n",
        "    data['url']=url   \n",
        "    return data"
      ],
      "execution_count": 54,
      "outputs": []
    },
    {
      "cell_type": "code",
      "metadata": {
        "id": "MtRT43Fjff56"
      },
      "source": [
        "dataframe=csv_creator(scrape)"
      ],
      "execution_count": 55,
      "outputs": []
    },
    {
      "cell_type": "code",
      "metadata": {
        "colab": {
          "base_uri": "https://localhost:8080/",
          "height": 281
        },
        "id": "HJe31xC5Ahi8",
        "outputId": "ea458210-e6d5-44b1-af4f-e15cc74e3901"
      },
      "source": [
        "dataframe.head()"
      ],
      "execution_count": 56,
      "outputs": [
        {
          "output_type": "execute_result",
          "data": {
            "text/html": [
              "<div>\n",
              "<style scoped>\n",
              "    .dataframe tbody tr th:only-of-type {\n",
              "        vertical-align: middle;\n",
              "    }\n",
              "\n",
              "    .dataframe tbody tr th {\n",
              "        vertical-align: top;\n",
              "    }\n",
              "\n",
              "    .dataframe thead th {\n",
              "        text-align: right;\n",
              "    }\n",
              "</style>\n",
              "<table border=\"1\" class=\"dataframe\">\n",
              "  <thead>\n",
              "    <tr style=\"text-align: right;\">\n",
              "      <th></th>\n",
              "      <th>author</th>\n",
              "      <th>published_at</th>\n",
              "      <th>title</th>\n",
              "      <th>description</th>\n",
              "      <th>url</th>\n",
              "    </tr>\n",
              "  </thead>\n",
              "  <tbody>\n",
              "    <tr>\n",
              "      <th>0</th>\n",
              "      <td>Igor Bonifacic</td>\n",
              "      <td>2021-02-25T18:03:30Z</td>\n",
              "      <td>Polestar 2 OTA update improves range and DC ch...</td>\n",
              "      <td>The Polestar 2 will get its first major softwa...</td>\n",
              "      <td>https://www.engadget.com/polestar-2-ota-update...</td>\n",
              "    </tr>\n",
              "    <tr>\n",
              "      <th>1</th>\n",
              "      <td>Mark Kaufman</td>\n",
              "      <td>2021-03-20T17:31:45Z</td>\n",
              "      <td>Feast your eyes on gorgeous shots of fresh lav...</td>\n",
              "      <td>Earth's grandeur is spilling out.\\nThe Iceland...</td>\n",
              "      <td>https://mashable.com/article/iceland-volcano-l...</td>\n",
              "    </tr>\n",
              "    <tr>\n",
              "      <th>2</th>\n",
              "      <td>JOHN FLESHER</td>\n",
              "      <td>2021-03-15T18:06:53Z</td>\n",
              "      <td>Scientists: Climate-whipped winds pose Great L...</td>\n",
              "      <td>Powerful gusts linked to global warming are da...</td>\n",
              "      <td>https://news.yahoo.com/scientists-climate-whip...</td>\n",
              "    </tr>\n",
              "    <tr>\n",
              "      <th>3</th>\n",
              "      <td>Bob Berwyn, Inside Climate News</td>\n",
              "      <td>2021-02-25T15:30:00Z</td>\n",
              "      <td>How Climate Change May Influence Deadly Avalan...</td>\n",
              "      <td>Greater temperature swings and more intense ra...</td>\n",
              "      <td>https://www.scientificamerican.com/article/how...</td>\n",
              "    </tr>\n",
              "    <tr>\n",
              "      <th>4</th>\n",
              "      <td>None</td>\n",
              "      <td>2021-03-07T08:05:14Z</td>\n",
              "      <td>Perseverance drives on Mars' terrain for first...</td>\n",
              "      <td>&lt;ol&gt;&lt;li&gt;Perseverance drives on Mars' terrain f...</td>\n",
              "      <td>https://satelliteprome.com/news/perseverance-d...</td>\n",
              "    </tr>\n",
              "  </tbody>\n",
              "</table>\n",
              "</div>"
            ],
            "text/plain": [
              "                            author  ...                                                url\n",
              "0                   Igor Bonifacic  ...  https://www.engadget.com/polestar-2-ota-update...\n",
              "1                     Mark Kaufman  ...  https://mashable.com/article/iceland-volcano-l...\n",
              "2                     JOHN FLESHER  ...  https://news.yahoo.com/scientists-climate-whip...\n",
              "3  Bob Berwyn, Inside Climate News  ...  https://www.scientificamerican.com/article/how...\n",
              "4                             None  ...  https://satelliteprome.com/news/perseverance-d...\n",
              "\n",
              "[5 rows x 5 columns]"
            ]
          },
          "metadata": {
            "tags": []
          },
          "execution_count": 56
        }
      ]
    },
    {
      "cell_type": "code",
      "metadata": {
        "id": "HBgLCpZfAvWv"
      },
      "source": [
        "def cleaning(data,col_name):\n",
        "  cleaned_sen=[]\n",
        "  for text in data[col_name]:\n",
        "    sen=BeautifulSoup(text, 'html.parser').get_text()\n",
        "    sen= re.sub(\"\\S*\\d\\S*\", \"\", text).strip()\n",
        "    sen = re.sub(r\"http\\S+\", \"\", text)\n",
        "    sen= re.sub(\"<[a-z]*>\", \"\", text)\n",
        "    sen= re.sub(\"\\n\", \"\", text)\n",
        "    cleaned_sen.append(sen)\n",
        "  data[col_name]=cleaned_sen  \n",
        "  return data"
      ],
      "execution_count": 60,
      "outputs": []
    },
    {
      "cell_type": "code",
      "metadata": {
        "id": "Zo0Depa-GhyV"
      },
      "source": [
        "cleaned_data=cleaning(dataframe,\"description\")\n",
        "cleaned_data=cleaning(dataframe,\"title\")\n"
      ],
      "execution_count": 61,
      "outputs": []
    },
    {
      "cell_type": "code",
      "metadata": {
        "colab": {
          "base_uri": "https://localhost:8080/",
          "height": 281
        },
        "id": "igICQvNvGqDs",
        "outputId": "d7d82b97-7f2e-4538-b317-d003da7747cc"
      },
      "source": [
        "cleaned_data.head()"
      ],
      "execution_count": 62,
      "outputs": [
        {
          "output_type": "execute_result",
          "data": {
            "text/html": [
              "<div>\n",
              "<style scoped>\n",
              "    .dataframe tbody tr th:only-of-type {\n",
              "        vertical-align: middle;\n",
              "    }\n",
              "\n",
              "    .dataframe tbody tr th {\n",
              "        vertical-align: top;\n",
              "    }\n",
              "\n",
              "    .dataframe thead th {\n",
              "        text-align: right;\n",
              "    }\n",
              "</style>\n",
              "<table border=\"1\" class=\"dataframe\">\n",
              "  <thead>\n",
              "    <tr style=\"text-align: right;\">\n",
              "      <th></th>\n",
              "      <th>author</th>\n",
              "      <th>published_at</th>\n",
              "      <th>title</th>\n",
              "      <th>description</th>\n",
              "      <th>url</th>\n",
              "    </tr>\n",
              "  </thead>\n",
              "  <tbody>\n",
              "    <tr>\n",
              "      <th>0</th>\n",
              "      <td>Igor Bonifacic</td>\n",
              "      <td>2021-02-25T18:03:30Z</td>\n",
              "      <td>Polestar 2 OTA update improves range and DC ch...</td>\n",
              "      <td>The Polestar 2 will get its first major softwa...</td>\n",
              "      <td>https://www.engadget.com/polestar-2-ota-update...</td>\n",
              "    </tr>\n",
              "    <tr>\n",
              "      <th>1</th>\n",
              "      <td>Mark Kaufman</td>\n",
              "      <td>2021-03-20T17:31:45Z</td>\n",
              "      <td>Feast your eyes on gorgeous shots of fresh lav...</td>\n",
              "      <td>Earth's grandeur is spilling out.The Icelandic...</td>\n",
              "      <td>https://mashable.com/article/iceland-volcano-l...</td>\n",
              "    </tr>\n",
              "    <tr>\n",
              "      <th>2</th>\n",
              "      <td>JOHN FLESHER</td>\n",
              "      <td>2021-03-15T18:06:53Z</td>\n",
              "      <td>Scientists: Climate-whipped winds pose Great L...</td>\n",
              "      <td>Powerful gusts linked to global warming are da...</td>\n",
              "      <td>https://news.yahoo.com/scientists-climate-whip...</td>\n",
              "    </tr>\n",
              "    <tr>\n",
              "      <th>3</th>\n",
              "      <td>Bob Berwyn, Inside Climate News</td>\n",
              "      <td>2021-02-25T15:30:00Z</td>\n",
              "      <td>How Climate Change May Influence Deadly Avalan...</td>\n",
              "      <td>Greater temperature swings and more intense ra...</td>\n",
              "      <td>https://www.scientificamerican.com/article/how...</td>\n",
              "    </tr>\n",
              "    <tr>\n",
              "      <th>4</th>\n",
              "      <td>None</td>\n",
              "      <td>2021-03-07T08:05:14Z</td>\n",
              "      <td>Perseverance drives on Mars' terrain for first...</td>\n",
              "      <td>Perseverance drives on Mars' terrain for first...</td>\n",
              "      <td>https://satelliteprome.com/news/perseverance-d...</td>\n",
              "    </tr>\n",
              "  </tbody>\n",
              "</table>\n",
              "</div>"
            ],
            "text/plain": [
              "                            author  ...                                                url\n",
              "0                   Igor Bonifacic  ...  https://www.engadget.com/polestar-2-ota-update...\n",
              "1                     Mark Kaufman  ...  https://mashable.com/article/iceland-volcano-l...\n",
              "2                     JOHN FLESHER  ...  https://news.yahoo.com/scientists-climate-whip...\n",
              "3  Bob Berwyn, Inside Climate News  ...  https://www.scientificamerican.com/article/how...\n",
              "4                             None  ...  https://satelliteprome.com/news/perseverance-d...\n",
              "\n",
              "[5 rows x 5 columns]"
            ]
          },
          "metadata": {
            "tags": []
          },
          "execution_count": 62
        }
      ]
    },
    {
      "cell_type": "code",
      "metadata": {
        "id": "w5XE-Z-kj9_T"
      },
      "source": [
        "cleaned_data.to_csv('python harvester.csv')"
      ],
      "execution_count": 63,
      "outputs": []
    },
    {
      "cell_type": "code",
      "metadata": {
        "id": "L3y15IOXkC18"
      },
      "source": [
        ""
      ],
      "execution_count": null,
      "outputs": []
    }
  ]
}